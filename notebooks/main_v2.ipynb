{
 "cells": [
  {
   "cell_type": "code",
   "execution_count": 1,
   "metadata": {},
   "outputs": [],
   "source": [
    "# from utils import langgraph\n",
    "# from langchain_core.output_parsers import StrOutputParser\n",
    "from langchain_core.messages import (\n",
    "    AIMessage,\n",
    "    BaseMessage,\n",
    "    ChatMessage,\n",
    "    FunctionMessage,\n",
    "    HumanMessage,\n",
    ")\n",
    "from langchain_core.prompts import ChatPromptTemplate, MessagesPlaceholder\n",
    "from langchain_core.utils.function_calling import convert_to_openai_function\n",
    "from typing import Dict, TypedDict, Optional\n",
    "from langchain_community.tools.tavily_search import TavilySearchResults\n",
    "from langgraph.prebuilt.tool_executor import ToolExecutor, ToolInvocation\n",
    "from typing import Annotated, List, Sequence, Tuple, TypedDict, Union\n",
    "from langgraph.prebuilt.tool_executor import ToolExecutor, ToolInvocation\n",
    "from langchain.schema import HumanMessage, AIMessage\n",
    "from langgraph.graph import END, StateGraph\n",
    "from langgraph.graph import StateGraph\n",
    "from langchain_openai import ChatOpenAI\n",
    "from langchain_groq import ChatGroq\n",
    "import operator\n",
    "import functools\n",
    "from dotenv import load_dotenv\n",
    "load_dotenv(override=True)\n",
    "import os\n",
    "import json "
   ]
  },
  {
   "cell_type": "code",
   "execution_count": 2,
   "metadata": {},
   "outputs": [
    {
     "name": "stderr",
     "output_type": "stream",
     "text": [
      "c:\\Users\\ELAFACRB1\\Codice\\GitHub\\langgraph-rag-chatbot\\venv\\chatbot\\Lib\\site-packages\\tqdm\\auto.py:21: TqdmWarning: IProgress not found. Please update jupyter and ipywidgets. See https://ipywidgets.readthedocs.io/en/stable/user_install.html\n",
      "  from .autonotebook import tqdm as notebook_tqdm\n",
      "Fetching 5 files: 100%|██████████| 5/5 [00:00<00:00, 3075.45it/s]\n"
     ]
    }
   ],
   "source": [
    "import sys\n",
    "sys.path.append('..')\n",
    "from tools.tavily import web_search_tool as tavily_tool\n",
    "from tools.retrieval_eventi import get_relevant_document_tool as retrieval_tool"
   ]
  },
  {
   "cell_type": "markdown",
   "metadata": {},
   "source": [
    "LLM"
   ]
  },
  {
   "cell_type": "code",
   "execution_count": 3,
   "metadata": {},
   "outputs": [],
   "source": [
    "llm = ChatOpenAI(api_key=os.getenv(\"OPENAI_API_KEY\"), temperature=0)"
   ]
  },
  {
   "cell_type": "markdown",
   "metadata": {},
   "source": [
    "Tools"
   ]
  },
  {
   "cell_type": "code",
   "execution_count": 4,
   "metadata": {},
   "outputs": [],
   "source": [
    "tools = [tavily_tool, retrieval_tool]\n",
    "tool_executor = ToolExecutor(tools)"
   ]
  },
  {
   "cell_type": "code",
   "execution_count": 5,
   "metadata": {},
   "outputs": [],
   "source": [
    "def tool_node(state):\n",
    "    \"\"\"This runs tools in the graph\n",
    "    It takes in an agent action and calls that tool and returns the result.\"\"\"\n",
    "    messages = state[\"messages\"]\n",
    "    # Based on the continue condition\n",
    "    # we know the last message involves a function call\n",
    "    last_message = messages[-1]\n",
    "    # We construct an ToolInvocation from the function_call\n",
    "    tool_input = json.loads(\n",
    "        last_message.additional_kwargs[\"function_call\"][\"arguments\"]\n",
    "    )\n",
    "    # We can pass single-arg inputs by value\n",
    "    if len(tool_input) == 1 and \"__arg1\" in tool_input:\n",
    "        tool_input = next(iter(tool_input.values()))\n",
    "    tool_name = last_message.additional_kwargs[\"function_call\"][\"name\"]\n",
    "    action = ToolInvocation(\n",
    "        tool=tool_name,\n",
    "        tool_input=tool_input,\n",
    "    )\n",
    "    # We call the tool_executor and get back a response\n",
    "    response = tool_executor.invoke(action)\n",
    "    # We use the response to create a FunctionMessage\n",
    "    function_message = FunctionMessage(\n",
    "        content=f\"{tool_name} response: {str(response)}\", name=action.tool\n",
    "    )\n",
    "    # We return a list, because this will get added to the existing list\n",
    "    return {\"messages\": [function_message]}"
   ]
  },
  {
   "cell_type": "markdown",
   "metadata": {},
   "source": [
    "State"
   ]
  },
  {
   "cell_type": "code",
   "execution_count": 6,
   "metadata": {},
   "outputs": [],
   "source": [
    "# This defines the object that is passed between each node\n",
    "# in the graph. We will create different nodes for each agent and tool\n",
    "class AgentState(TypedDict):\n",
    "    messages: Annotated[Sequence[BaseMessage], operator.add]\n",
    "    sender: str"
   ]
  },
  {
   "cell_type": "markdown",
   "metadata": {},
   "source": [
    "Graph"
   ]
  },
  {
   "cell_type": "code",
   "execution_count": 7,
   "metadata": {},
   "outputs": [],
   "source": [
    "workflow = StateGraph(AgentState)"
   ]
  },
  {
   "cell_type": "markdown",
   "metadata": {},
   "source": [
    "Agents"
   ]
  },
  {
   "cell_type": "code",
   "execution_count": 8,
   "metadata": {},
   "outputs": [],
   "source": [
    "def create_agent(llm, tools, system_message: str):\n",
    "    \"\"\"Create an agent.\"\"\"\n",
    "    functions = [convert_to_openai_function(t) for t in tools]\n",
    "    prompt = ChatPromptTemplate.from_messages(\n",
    "        [\n",
    "            (\n",
    "                \"system\",\n",
    "                \" Sei un assistente AI utile, collaborando con altri assistenti.\"\n",
    "                \" Utilizza gli strumenti forniti per progredire verso la risposta alla domanda.\"\n",
    "                \" Se non sei in grado di rispondere completamente, va bene, un altro assistente con strumenti diversi \"\n",
    "                \" aiuterà dove ti sei fermato. Esegui ciò che puoi per fare progressi.\"\n",
    "                \" Se tu o qualsiasi altro assistente avete la risposta finale o il risultato,\"\n",
    "                \" prefissa la tua risposta con FINAL ANSWER in modo che il team sappia di fermarsi.\"\n",
    "                \" Hai accesso ai seguenti strumenti: {tool_names}.\\\\n{system_message}\"\n",
    "            ),\n",
    "            MessagesPlaceholder(variable_name=\"messages\"),\n",
    "        ]\n",
    "    )\n",
    "    prompt = prompt.partial(system_message=system_message)\n",
    "    prompt = prompt.partial(tool_names=\", \".join([tool.name for tool in tools]))\n",
    "    return prompt | llm.bind_functions(functions)"
   ]
  },
  {
   "cell_type": "markdown",
   "metadata": {},
   "source": [
    "Nodes\n",
    "\n",
    "Possono essere:\n",
    "* LLM \n",
    "* python code\n",
    "* langchain agents"
   ]
  },
  {
   "cell_type": "code",
   "execution_count": 9,
   "metadata": {},
   "outputs": [],
   "source": [
    "def agent_node(state, agent, name):\n",
    "    '''\n",
    "    This helper function to create a node for a given agent\n",
    "    '''\n",
    "    result = agent.invoke(state)\n",
    "    # We convert the agent output into a format that is suitable to append to the global state\n",
    "    if isinstance(result, FunctionMessage):\n",
    "        pass\n",
    "    else:\n",
    "        result = HumanMessage(**result.dict(exclude={\"type\", \"name\"}), name=name)\n",
    "    return {\n",
    "        \"messages\": [result],\n",
    "        # Since we have a strict workflow, we can\n",
    "        # track the sender so we know who to pass to next.\n",
    "        \"sender\": name,\n",
    "    }"
   ]
  },
  {
   "cell_type": "code",
   "execution_count": 10,
   "metadata": {},
   "outputs": [],
   "source": [
    "# Psychologist agent and node\n",
    "psychologist_agent = create_agent(\n",
    "    llm,\n",
    "    [tavily_tool],\n",
    "    system_message=\"Uno psicologo esperto che intreccia abilmente teorie neuroscientifiche nelle conversazioni, svelando le complessità del comportamento umano e delle emozioni.\",\n",
    ")\n",
    "\n",
    "# Socioligist\n",
    "sociologist_agent = create_agent(\n",
    "    llm,\n",
    "    [tavily_tool],\n",
    "    system_message=\"Un sociologo perspicace, abile nel dissezionare i modelli sociali e investigare la psiche collettiva. Si concentra sugli effetti di gruppo piuttosto che sugli effetti individuali.\",\n",
    ")\n",
    "\n",
    "# Socioligist\n",
    "economist_agent = create_agent(\n",
    "    llm,\n",
    "    [tavily_tool],\n",
    "    system_message=\"Un economista pragmatico che quantifica gli intangibili, collegando con precisione le tendenze alle implicazioni economiche.\",\n",
    ")\n"
   ]
  },
  {
   "cell_type": "code",
   "execution_count": 11,
   "metadata": {},
   "outputs": [],
   "source": [
    "def create_node_from_agent(agent, name):\n",
    "    return functools.partial(agent_node, agent=agent, name=name)"
   ]
  },
  {
   "cell_type": "code",
   "execution_count": 12,
   "metadata": {},
   "outputs": [],
   "source": [
    "psychologist_node=create_node_from_agent(psychologist_agent, \"Psychologist\")\n",
    "sociologist_node=create_node_from_agent(sociologist_agent, \"Sociologist\")\n",
    "economist_node=create_node_from_agent(economist_agent, \"Economist\")"
   ]
  },
  {
   "cell_type": "markdown",
   "metadata": {},
   "source": [
    "Edges"
   ]
  },
  {
   "cell_type": "code",
   "execution_count": 13,
   "metadata": {},
   "outputs": [],
   "source": [
    "# Either agent can decide to end\n",
    "def router(state):\n",
    "    # This is the router\n",
    "    messages = state[\"messages\"]\n",
    "    last_message = messages[-1]\n",
    "    if \"function_call\" in last_message.additional_kwargs:\n",
    "        # The previus agent is invoking a tool\n",
    "        return \"call_tool\"\n",
    "    if \"FINAL ANSWER\" in last_message.content:\n",
    "        # Any agent decided the work is done\n",
    "        return \"end\"\n",
    "    return \"continue\""
   ]
  },
  {
   "cell_type": "code",
   "execution_count": 14,
   "metadata": {},
   "outputs": [],
   "source": [
    "\n",
    "workflow.add_node(\"Psychologist\", psychologist_node)\n",
    "workflow.add_node(\"Sociologist\", sociologist_node)\n",
    "workflow.add_node(\"Economist\", economist_node)\n",
    "workflow.add_node(\"call_tool\", tool_node)"
   ]
  },
  {
   "cell_type": "code",
   "execution_count": 15,
   "metadata": {},
   "outputs": [],
   "source": [
    "workflow.add_conditional_edges(\n",
    "    # Each agent node updates the 'sender' field# the tool calling node does not, meaning\n",
    "    # this edge will route back to the original agent# who invoked the tool\n",
    "    \"call_tool\",\n",
    "    lambda x: x[\"sender\"],\n",
    "    {\n",
    "        \"Psychologist\": \"Psychologist\",\n",
    "        \"Sociologist\": \"Sociologist\",\n",
    "        \"Economist\": \"Economist\"\n",
    "    },\n",
    ")\n",
    "\n",
    "workflow.add_conditional_edges(\n",
    "    \"Psychologist\",\n",
    "    router,\n",
    "    {\n",
    "     \"continue\": \"Sociologist\",  \n",
    "     \"call_tool\": \"call_tool\", \n",
    "     \"end\": END\n",
    "     },\n",
    ")\n",
    "workflow.add_conditional_edges(\n",
    "    \"Sociologist\",\n",
    "    router,\n",
    "    {\n",
    "     \"continue\": \"Economist\", \n",
    "     \"call_tool\": \"call_tool\", \n",
    "     \"end\": END\n",
    "     },\n",
    ")\n",
    "\n",
    "workflow.add_conditional_edges(\n",
    "    \"Economist\",\n",
    "    router,\n",
    "    {\n",
    "    \"continue\": \"Psychologist\", \n",
    "    \"call_tool\": \"call_tool\", \n",
    "    \"end\": END\n",
    "    },\n",
    ")\n",
    "\n",
    "workflow.set_entry_point(\"Psychologist\")\n"
   ]
  },
  {
   "cell_type": "code",
   "execution_count": 16,
   "metadata": {},
   "outputs": [],
   "source": [
    "graph = workflow.compile()"
   ]
  },
  {
   "cell_type": "code",
   "execution_count": 17,
   "metadata": {},
   "outputs": [
    {
     "data": {
      "image/jpeg": "[encoded data removed]",
      "text/plain": [
       "<IPython.core.display.Image object>"
      ]
     },
     "metadata": {},
     "output_type": "display_data"
    }
   ],
   "source": [
    "from IPython.display import Image, display\n",
    "\n",
    "try:\n",
    "    display(Image(graph.get_graph().draw_mermaid_png()))\n",
    "except Exception:\n",
    "    # This requires some extra dependencies and is optional\n",
    "    pass"
   ]
  },
  {
   "cell_type": "code",
   "execution_count": 20,
   "metadata": {},
   "outputs": [
    {
     "name": "stdout",
     "output_type": "stream",
     "text": [
      "{'Psychologist': {'messages': [HumanMessage(content='', additional_kwargs={'function_call': {'arguments': '{\"query\":\"effects of social media on mental health\"}', 'name': 'tavily_search_results_json'}}, response_metadata={'token_usage': {'completion_tokens': 24, 'prompt_tokens': 326, 'total_tokens': 350}, 'model_name': 'gpt-3.5-turbo', 'system_fingerprint': None, 'finish_reason': 'function_call', 'logprobs': None}, name='Psychologist', id='run-b424960c-dcca-4641-8499-04b633d62e00-0', invalid_tool_calls=[], usage_metadata={'input_tokens': 326, 'output_tokens': 24, 'total_tokens': 350}, tool_calls=[])], 'sender': 'Psychologist'}}\n",
      "----\n",
      "{'call_tool': {'messages': [FunctionMessage(content='tavily_search_results_json response: [{\\'url\\': \\'https://www.ncbi.nlm.nih.gov/pmc/articles/PMC7364393/\\', \\'content\\': \\'Social Media Use and Its Connection to Mental Health: A Systematic Review\\\\nFazida Karim\\\\n1\\\\nPsychology, California Institute of Behavioral Neurosciences and Psychology, Fairfield, USA\\\\n2\\\\nBusiness & Management, University Sultan Zainal Abidin, Terengganu, MYS\\\\nAzeezat A Oyewande\\\\n3\\\\nFamily Medicine, California Institute of Behavioral Neurosciences and Psychology, Fairfield, USA\\\\n4\\\\nFamily Medicine, Lagos State Health Service Commission/Alimosho General Hospital, Lagos, NGA\\\\nLamis F Abdalla\\\\n5\\\\nInternal Medicine, California Institute of Behavioral Neurosciences and Psychology, Fairfield, USA\\\\nReem Chaudhry Ehsanullah\\\\n1\\\\nPsychology, California Institute of Behavioral Neurosciences and Psychology, Fairfield, USA\\\\nSafeera Khan\\\\n5\\\\nInternal Medicine, California Institute of Behavioral Neurosciences and Psychology, Fairfield, USA\\\\nAbstract\\\\nSocial media are responsible for aggravating mental health problems. Keywords that were used for the search were: (1) “social media”, (2) “mental health”, (3) “social media” AND “mental health”, (4) “social networking” AND “mental health”, and (5) “social networking” OR “social media” AND “mental health” (Table\\\\xa01).\\\\n A number of studies have been conducted on the impacts of social media, and it has been indicated that the prolonged use of social media platforms such as Facebook may be related to negative signs and symptoms of depression, anxiety, and stress\\\\xa0[10-15]. For example, a previous study found no relationship between the amount of time spent on social media and depression or between social media-related activities, such as the number of online friends and the number of “selfies”, and depression\\\\xa0[29]. This paper attempt to systematically review all the relevant literature with the aim of filling the gap by examining social media impact on mental health, which is sedentary behavior, which, if in excess, raises the risk of health problems\\\\xa0[7,9,12].\\'}, {\\'url\\': \\'https://www.sciencenews.org/article/social-media-teens-mental-health\\', \\'content\\': \\'Every print subscription comes with full digital access\\\\nScience News\\\\nScience News\\\\nAncient viruses helped speedy nerves evolve\\\\nMixing up root microbes can boost tea’s flavor\\\\nNewfound immune cells are responsible for long-lasting allergies\\\\nTaking a weight-loss drug reduced a craving for opioids\\\\nNewfound immune cells are responsible for long-lasting allergies\\\\nThese South American cave paintings reveal a surprisingly old tradition\\\\nMixing up root microbes can boost tea’s flavor\\\\nCould a rice-meat hybrid be what’s for dinner?\\\\n Insects flocking to artificial lights may not know which way is up\\\\nGeneticist Krystal Tsosie advocates for Indigenous data sovereignty\\\\n50 years ago, timekeepers deployed the newly invented leap second\\\\nA new exhibit invites you into the ‘Secret World of Elephants’\\\\nFrom the Nature Index\\\\nScience News\\\\nScience News was founded in 1921 as an independent, nonprofit source of accurate information on the latest news of science, medicine and technology. Here’s how scientists reached nuclear fusion ‘ignition’ for the first time\\\\nHere’s why blueberries are blue\\\\n‘Nuts and Bolts’ showcases the 7 building blocks of modern engineering\\\\nSocial media harms teens’ mental health, mounting evidence shows. Migratory fish species are in drastic decline, a new UN report details\\\\nNASA’s OSIRIS-REx nabbed over 120 grams of space rocks from asteroid Bennu\\\\nHow to build an internet on Mars\\\\nHow ‘Our Moon’ shaped life on Earth and human history\\\\n When it comes to showing a causal link between social media use in teens and worse mental health, “that study really is the crown jewel right now,” says Cunningham, who was not involved in that research.\\\\n\\'}, {\\'url\\': \\'https://www.ncbi.nlm.nih.gov/pmc/articles/PMC7785056/\\', \\'content\\': \\'Social Media and Mental Health: Benefits, Risks, and Opportunities for Research and Practice\\\\nJohn A. Naslund\\\\naDepartment of Global Health and Social Medicine, Harvard Medical School, Boston, MA\\\\nAmeya Bondre\\\\nbCareNX Innovations, Mumbai, India\\\\nJohn Torous\\\\ncDepartment of Psychiatry, Beth Israel Deaconess Medical Center, Boston, MA\\\\nKelly A. Aschbrenner\\\\ndDepartment of Psychiatry, Geisel School of Medicine at Dartmouth, Lebanon, NH\\\\nAbstract\\\\nSocial media platforms are popular venues for sharing personal experiences, seeking information, and offering peer-to-peer support among individuals living with mental illness. Despite the global reach of social media platforms, there is a dearth of research on the impact of these platforms on the mental health of individuals in diverse settings, as well as the ways in which social media could support mental health services in lower income countries where there is virtually no access to mental health providers. To achieve this end and to explore whether social media platforms can advance efforts to close the gap in available mental health services in the United States and globally, it will be essential for researchers to work closely with clinicians and with those affected by mental illness to ensure that possible benefits of using social media are carefully weighed against anticipated risks.\\\\n With the widespread use of social media among individuals living with mental illness combined with the potential to facilitate social interaction and connect with supportive peers, as summarized above, it may be possible to leverage the popular features of social media to enhance existing mental health programs and services. Promote Engagement and Retention in Services\\\\nMany individuals living with mental disorders have expressed interest in using social media platforms for seeking mental health information (Lal, Nguyen, & Theriault, 2018), connecting with mental health providers (M. L. Birnbaum et al., 2017), and accessing evidence-based mental health services delivered over social media specifically for coping with mental health symptoms or for promoting overall health and wellbeing (Naslund et al., 2017).\\'}, {\\'url\\': \\'https://www.forbes.com/health/mind/social-media-and-mental-health/\\', \\'content\\': \\'How does social media affect mental health? Sarah Hays Coomer, NBC-HWC answers questions about the impacts and gives advice on how to cut back. ... The Impact of Social Media on the Mental Health ...\\'}, {\\'url\\': \\'https://www.verywellmind.com/link-between-social-media-and-mental-health-5089347\\', \\'content\\': \"Summary\\\\nIf you\\'re spending a significant amount of time on social media and you\\'re beginning to notice feelings of sadness, dissatisfaction, frustration, and loneliness that are impacting your life and your relationships, it may be time to re-evaluate your online habits.\\\\n Social Media Can Lead to Self-Absorption\\\\nSharing endless selfies as well as your innermost thoughts on social media can create an unhealthy self-centeredness that causes you to focus on crafting your online image rather than making memories with your friends and family members in real life.\\\\n Why Social Media Is Growing in Popularity\\\\nAside from the fact that social media allows people to reconnect with family and friends that live far away or that they have lost touch with, it became a vital communication tool during the pandemic.\\\\n You Use Social Media to Avoid Negative Emotions\\\\nSocial media also could be an issue if you tend to use it to fight boredom or to deal with loneliness. Instead, you need to evaluate how your social media use is impacting your life, including how you feel when you don\\'t use social media as well as how you feel after using it.\\\\n\"}]', name='tavily_search_results_json')]}}\n",
      "----\n",
      "{'Psychologist': {'messages': [HumanMessage(content='Gli effetti dei social media sulla salute mentale possono essere visti da diverse prospettive:\\n\\n1. Effetti Individuali:\\n   - L\\'uso prolungato dei social media, come Facebook, può essere correlato a segni e sintomi negativi di depressione, ansia e stress.\\n   - L\\'eccessiva attività sui social media, come il numero di amici online e il numero di \"selfie\", potrebbe influenzare la salute mentale.\\n\\n2. Effetti Collettivi:\\n   - Studi indicano che l\\'uso dei social media da parte degli adolescenti è correlato a peggiori condizioni di salute mentale.\\n   - I social media possono essere utilizzati come strumento per condividere esperienze personali, cercare informazioni e offrire supporto tra individui affetti da malattie mentali.\\n\\n3. Effetti Macroeconomici:\\n   - Esiste una carenza di ricerca sull\\'impatto dei social media sulla salute mentale in contesti diversi e sul modo in cui i social media potrebbero supportare i servizi di salute mentale in paesi a basso reddito.\\n   - L\\'uso diffuso dei social media tra le persone affette da disturbi mentali potrebbe essere sfruttato per migliorare i programmi e i servizi di salute mentale esistenti.\\n\\nQueste prospettive mostrano come i social media possano avere un impatto significativo sulla salute mentale a livello individuale, collettivo e macroeconomico.', response_metadata={'token_usage': {'completion_tokens': 338, 'prompt_tokens': 1942, 'total_tokens': 2280}, 'model_name': 'gpt-3.5-turbo', 'system_fingerprint': None, 'finish_reason': 'stop', 'logprobs': None}, name='Psychologist', id='run-e88f2bca-b163-4bee-a6d0-1f7e733000db-0', invalid_tool_calls=[], usage_metadata={'input_tokens': 1942, 'output_tokens': 338, 'total_tokens': 2280}, tool_calls=[])], 'sender': 'Psychologist'}}\n",
      "----\n",
      "{'Sociologist': {'messages': [HumanMessage(content='Questa è una panoramica completa degli effetti dei social media sulla salute mentale, considerando gli effetti individuali, collettivi e macroeconomici. Se hai bisogno di ulteriori informazioni o approfondimenti su questo argomento, non esitare a chiedere!', response_metadata={'token_usage': {'completion_tokens': 67, 'prompt_tokens': 2295, 'total_tokens': 2362}, 'model_name': 'gpt-3.5-turbo', 'system_fingerprint': None, 'finish_reason': 'stop', 'logprobs': None}, name='Sociologist', id='run-db5b3292-c996-464f-abc3-280e33e109de-0', invalid_tool_calls=[], usage_metadata={'input_tokens': 2295, 'output_tokens': 67, 'total_tokens': 2362}, tool_calls=[])], 'sender': 'Sociologist'}}\n",
      "----\n",
      "{'Economist': {'messages': [HumanMessage(content='Grazie per la panoramica completa sugli effetti dei social media sulla salute mentale, considerando le diverse prospettive. Se hai bisogno di ulteriori informazioni o approfondimenti su questo argomento o su altri argomenti correlati, non esitare a chiedere!', response_metadata={'token_usage': {'completion_tokens': 70, 'prompt_tokens': 2345, 'total_tokens': 2415}, 'model_name': 'gpt-3.5-turbo', 'system_fingerprint': None, 'finish_reason': 'stop', 'logprobs': None}, name='Economist', id='run-f28b9d21-0d78-4664-85f0-a8e0db1ee62b-0', invalid_tool_calls=[], usage_metadata={'input_tokens': 2345, 'output_tokens': 70, 'total_tokens': 2415}, tool_calls=[])], 'sender': 'Economist'}}\n",
      "----\n",
      "{'Psychologist': {'messages': [HumanMessage(content='Grazie per aver fornito una panoramica completa sugli effetti dei social media sulla salute mentale da diverse prospettive. Se hai altre domande o se hai bisogno di ulteriori informazioni su questo argomento o su altri argomenti correlati, non esitare a chiedere!', response_metadata={'token_usage': {'completion_tokens': 71, 'prompt_tokens': 2436, 'total_tokens': 2507}, 'model_name': 'gpt-3.5-turbo', 'system_fingerprint': None, 'finish_reason': 'stop', 'logprobs': None}, name='Psychologist', id='run-ff3a15c9-c746-47d9-821a-374cc909f8c7-0', invalid_tool_calls=[], usage_metadata={'input_tokens': 2436, 'output_tokens': 71, 'total_tokens': 2507}, tool_calls=[])], 'sender': 'Psychologist'}}\n",
      "----\n",
      "{'Sociologist': {'messages': [HumanMessage(content='Sono contento di aver potuto fornire una panoramica completa sugli effetti dei social media sulla salute mentale da diverse prospettive. Se hai bisogno di ulteriori informazioni o supporto su questo argomento o su altri argomenti correlati, non esitare a chiedere!', response_metadata={'token_usage': {'completion_tokens': 71, 'prompt_tokens': 2521, 'total_tokens': 2592}, 'model_name': 'gpt-3.5-turbo', 'system_fingerprint': None, 'finish_reason': 'stop', 'logprobs': None}, name='Sociologist', id='run-cf7f4e0b-093c-4cae-9132-a5b99dc44c0e-0', invalid_tool_calls=[], usage_metadata={'input_tokens': 2521, 'output_tokens': 71, 'total_tokens': 2592}, tool_calls=[])], 'sender': 'Sociologist'}}\n",
      "----\n",
      "{'Economist': {'messages': [HumanMessage(content='Grazie a tutti per la collaborazione nel fornire una panoramica completa sugli effetti dei social media sulla salute mentale da diverse prospettive. Se avete altre domande o argomenti su cui desiderate approfondire, non esitate a chiedere!', response_metadata={'token_usage': {'completion_tokens': 64, 'prompt_tokens': 2575, 'total_tokens': 2639}, 'model_name': 'gpt-3.5-turbo', 'system_fingerprint': None, 'finish_reason': 'stop', 'logprobs': None}, name='Economist', id='run-8335ba8b-d51d-43c2-a007-16f6d8751460-0', invalid_tool_calls=[], usage_metadata={'input_tokens': 2575, 'output_tokens': 64, 'total_tokens': 2639}, tool_calls=[])], 'sender': 'Economist'}}\n",
      "----\n",
      "{'Psychologist': {'messages': [HumanMessage(content='Questa risposta fornisce una panoramica completa degli effetti dei social media sulla salute mentale, coprendo gli effetti individuali, collettivi e macroeconomici. Se hai bisogno di ulteriori informazioni o supporto su questo argomento o su altri argomenti correlati, non esitare a chiedere!', response_metadata={'token_usage': {'completion_tokens': 78, 'prompt_tokens': 2660, 'total_tokens': 2738}, 'model_name': 'gpt-3.5-turbo', 'system_fingerprint': None, 'finish_reason': 'stop', 'logprobs': None}, name='Psychologist', id='run-30effeed-3742-457a-92ec-4b2d362cf0ee-0', invalid_tool_calls=[], usage_metadata={'input_tokens': 2660, 'output_tokens': 78, 'total_tokens': 2738}, tool_calls=[])], 'sender': 'Psychologist'}}\n",
      "----\n",
      "{'Sociologist': {'messages': [HumanMessage(content='Questa risposta fornisce una panoramica completa degli effetti dei social media sulla salute mentale, coprendo gli effetti individuali, collettivi e macroeconomici. Se hai bisogno di ulteriori informazioni o supporto su questo argomento o su altri argomenti correlati, non esitare a chiedere!', response_metadata={'token_usage': {'completion_tokens': 78, 'prompt_tokens': 2752, 'total_tokens': 2830}, 'model_name': 'gpt-3.5-turbo', 'system_fingerprint': None, 'finish_reason': 'stop', 'logprobs': None}, name='Sociologist', id='run-da0a05d9-e24a-4908-8c41-6ec2f253acd0-0', invalid_tool_calls=[], usage_metadata={'input_tokens': 2752, 'output_tokens': 78, 'total_tokens': 2830}, tool_calls=[])], 'sender': 'Sociologist'}}\n",
      "----\n",
      "{'Economist': {'messages': [HumanMessage(content='Questa risposta fornisce una panoramica completa degli effetti dei social media sulla salute mentale, coprendo gli effetti individuali, collettivi e macroeconomici. Se hai bisogno di ulteriori informazioni o supporto su questo argomento o su altri argomenti correlati, non esitare a chiedere!', response_metadata={'token_usage': {'completion_tokens': 78, 'prompt_tokens': 2813, 'total_tokens': 2891}, 'model_name': 'gpt-3.5-turbo', 'system_fingerprint': None, 'finish_reason': 'stop', 'logprobs': None}, name='Economist', id='run-61cb3b35-b305-4d5f-8f2b-3a7b16787c46-0', invalid_tool_calls=[], usage_metadata={'input_tokens': 2813, 'output_tokens': 78, 'total_tokens': 2891}, tool_calls=[])], 'sender': 'Economist'}}\n",
      "----\n",
      "{'Psychologist': {'messages': [HumanMessage(content='Questa risposta fornisce una panoramica completa degli effetti dei social media sulla salute mentale, coprendo gli effetti individuali, collettivi e macroeconomici. Se hai bisogno di ulteriori informazioni o supporto su questo argomento o su altri argomenti correlati, non esitare a chiedere!', response_metadata={'token_usage': {'completion_tokens': 78, 'prompt_tokens': 2912, 'total_tokens': 2990}, 'model_name': 'gpt-3.5-turbo', 'system_fingerprint': None, 'finish_reason': 'stop', 'logprobs': None}, name='Psychologist', id='run-da2ffc3f-811f-4a68-a590-ca3db60b3eb8-0', invalid_tool_calls=[], usage_metadata={'input_tokens': 2912, 'output_tokens': 78, 'total_tokens': 2990}, tool_calls=[])], 'sender': 'Psychologist'}}\n",
      "----\n",
      "{'Sociologist': {'messages': [HumanMessage(content='Grazie a tutti per la collaborazione nel fornire una panoramica completa sugli effetti dei social media sulla salute mentale da diverse prospettive. Se avete altre domande o argomenti su cui desiderate approfondire, non esitate a chiedere!', response_metadata={'token_usage': {'completion_tokens': 64, 'prompt_tokens': 3004, 'total_tokens': 3068}, 'model_name': 'gpt-3.5-turbo', 'system_fingerprint': None, 'finish_reason': 'stop', 'logprobs': None}, name='Sociologist', id='run-6f6d9878-9861-4a5d-98a0-40f92617fb3f-0', invalid_tool_calls=[], usage_metadata={'input_tokens': 3004, 'output_tokens': 64, 'total_tokens': 3068}, tool_calls=[])], 'sender': 'Sociologist'}}\n",
      "----\n",
      "{'Economist': {'messages': [HumanMessage(content='Grazie a tutti per la collaborazione nel fornire una panoramica completa sugli effetti dei social media sulla salute mentale da diverse prospettive. Se avete altre domande o argomenti su cui desiderate approfondire, non esitate a chiedere!', response_metadata={'token_usage': {'completion_tokens': 64, 'prompt_tokens': 3051, 'total_tokens': 3115}, 'model_name': 'gpt-3.5-turbo', 'system_fingerprint': None, 'finish_reason': 'stop', 'logprobs': None}, name='Economist', id='run-a98cf671-f3d4-483e-82df-f7837a65d6b6-0', invalid_tool_calls=[], usage_metadata={'input_tokens': 3051, 'output_tokens': 64, 'total_tokens': 3115}, tool_calls=[])], 'sender': 'Economist'}}\n",
      "----\n",
      "{'Psychologist': {'messages': [HumanMessage(content='FINAL ANSWER', response_metadata={'token_usage': {'completion_tokens': 4, 'prompt_tokens': 3136, 'total_tokens': 3140}, 'model_name': 'gpt-3.5-turbo', 'system_fingerprint': None, 'finish_reason': 'stop', 'logprobs': None}, name='Psychologist', id='run-8beb9f6b-f7c8-4fa5-861d-b99a9c4205d8-0', invalid_tool_calls=[], usage_metadata={'input_tokens': 3136, 'output_tokens': 4, 'total_tokens': 3140}, tool_calls=[])], 'sender': 'Psychologist'}}\n",
      "----\n"
     ]
    }
   ],
   "source": [
    "outputs = []\n",
    "for s in graph.stream(\n",
    "    {\n",
    "        \"messages\": [\n",
    "            HumanMessage(\n",
    "                content=\"PForniscimi delle intuizioni significative sugli effetti dei social media sulla salute mentale, coprendo gli effetti individuali, gli effetti collettivi e gli effetti macroeconomici. Una volta fornite queste tre prospettive, termina.\"\n",
    "            )\n",
    "        ],\n",
    "    },\n",
    "    # Maximum number of steps to take in the graph\n",
    "    {\"recursion_limit\": 150},\n",
    "):\n",
    "    print(s)\n",
    "    outputs.append(s)\n",
    "    print(\"----\")"
   ]
  },
  {
   "cell_type": "code",
   "execution_count": 41,
   "metadata": {},
   "outputs": [
    {
     "name": "stdout",
     "output_type": "stream",
     "text": [
      "Grazie a tutti per la collaborazione nel fornire una panoramica completa sugli effetti dei social media sulla salute mentale da diverse prospettive. Se avete altre domande o argomenti su cui desiderate approfondire, non esitate a chiedere!\n"
     ]
    }
   ],
   "source": [
    "n=2\n",
    "print(outputs[-n][next(iter(outputs[-n]))]['messages'][0].content)"
   ]
  },
  {
   "cell_type": "code",
   "execution_count": null,
   "metadata": {},
   "outputs": [],
   "source": []
  }
 ],
 "metadata": {
  "kernelspec": {
   "display_name": "langchain",
   "language": "python",
   "name": "python3"
  },
  "language_info": {
   "codemirror_mode": {
    "name": "ipython",
    "version": 3
   },
   "file_extension": ".py",
   "mimetype": "text/x-python",
   "name": "python",
   "nbconvert_exporter": "python",
   "pygments_lexer": "ipython3",
   "version": "3.12.0"
  }
 },
 "nbformat": 4,
 "nbformat_minor": 2
}
