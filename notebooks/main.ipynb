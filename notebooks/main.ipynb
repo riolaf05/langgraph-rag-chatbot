{
 "cells": [
  {
   "cell_type": "markdown",
   "metadata": {},
   "source": [
    "See: https://langchain-ai.github.io/langgraph/tutorials/introduction/"
   ]
  },
  {
   "cell_type": "code",
   "execution_count": 114,
   "metadata": {},
   "outputs": [],
   "source": [
    "# from utils import langgraph\n",
    "# from langchain_core.output_parsers import StrOutputParser\n",
    "from langchain_core.messages import (\n",
    "    AIMessage,\n",
    "    BaseMessage,\n",
    "    ChatMessage,\n",
    "    FunctionMessage,\n",
    "    HumanMessage,\n",
    ")\n",
    "from langchain_core.prompts import ChatPromptTemplate, MessagesPlaceholder\n",
    "from langchain_core.utils.function_calling import convert_to_openai_function\n",
    "from typing import Dict, TypedDict, Optional\n",
    "from langchain_community.tools.tavily_search import TavilySearchResults\n",
    "from langgraph.prebuilt.tool_executor import ToolExecutor, ToolInvocation\n",
    "from typing import Annotated, List, Sequence, Tuple, TypedDict, Union\n",
    "from langgraph.prebuilt.tool_executor import ToolExecutor, ToolInvocation\n",
    "from langchain.schema import HumanMessage, AIMessage\n",
    "from langgraph.graph import END, StateGraph\n",
    "from langgraph.graph import StateGraph\n",
    "from langchain_openai import ChatOpenAI\n",
    "from langchain_groq import ChatGroq\n",
    "import operator\n",
    "import functools\n",
    "from dotenv import load_dotenv\n",
    "load_dotenv(override=True)\n",
    "import os\n",
    "import json \n",
    "from langchain_groq import ChatGroq\n",
    "from langgraph.graph import StateGraph\n",
    "from langgraph.graph.message import add_messages\n",
    "from langchain_core.messages import ToolMessage\n",
    "from typing import Literal"
   ]
  },
  {
   "cell_type": "code",
   "execution_count": 115,
   "metadata": {},
   "outputs": [],
   "source": [
    "class State(TypedDict):\n",
    "    # Messages have the type \"list\". The `add_messages` function\n",
    "    # in the annotation defines how this state key should be updated\n",
    "    # (in this case, it appends messages to the list, rather than overwriting them)\n",
    "    messages: Annotated[list, add_messages]\n",
    "\n",
    "\n",
    "graph_builder = StateGraph(State)"
   ]
  },
  {
   "cell_type": "code",
   "execution_count": 116,
   "metadata": {},
   "outputs": [],
   "source": [
    "llm = ChatGroq(\n",
    "    temperature=0, \n",
    "    model_name=\"Llama3-8b-8192\"\n",
    "    )"
   ]
  },
  {
   "cell_type": "code",
   "execution_count": 117,
   "metadata": {},
   "outputs": [],
   "source": [
    "def chatbot(state: State):\n",
    "    return {\"messages\": [llm.invoke(state[\"messages\"])]}\n"
   ]
  },
  {
   "cell_type": "code",
   "execution_count": 118,
   "metadata": {},
   "outputs": [],
   "source": [
    "graph_builder.add_node(\"chatbot\", chatbot)"
   ]
  },
  {
   "cell_type": "code",
   "execution_count": 119,
   "metadata": {},
   "outputs": [],
   "source": [
    "graph_builder.set_entry_point(\"chatbot\")"
   ]
  },
  {
   "cell_type": "code",
   "execution_count": 120,
   "metadata": {},
   "outputs": [],
   "source": [
    "graph_builder.set_finish_point(\"chatbot\")"
   ]
  },
  {
   "cell_type": "code",
   "execution_count": 121,
   "metadata": {},
   "outputs": [],
   "source": [
    "graph = graph_builder.compile()"
   ]
  },
  {
   "cell_type": "code",
   "execution_count": 122,
   "metadata": {},
   "outputs": [
    {
     "data": {
      "image/jpeg": "[encoded data removed]",
      "text/plain": [
       "<IPython.core.display.Image object>"
      ]
     },
     "metadata": {},
     "output_type": "display_data"
    }
   ],
   "source": [
    "from IPython.display import Image, display\n",
    "\n",
    "try:\n",
    "    display(Image(graph.get_graph().draw_mermaid_png()))\n",
    "except Exception:\n",
    "    # This requires some extra dependencies and is optional\n",
    "    pass"
   ]
  },
  {
   "cell_type": "code",
   "execution_count": 123,
   "metadata": {},
   "outputs": [
    {
     "name": "stdout",
     "output_type": "stream",
     "text": [
      "{'chatbot': {'messages': [AIMessage(content=\"Ciao!\\n\\nGemini è un servizio di ricerca di Google che consente di cercare e scoprire informazioni online in modo più approfondito e personalizzato rispetto alla ricerca tradizionale. Gemini è stato lanciato nel 2020 e si presenta come un'alternativa alla ricerca tradizionale di Google, offrendo risultati più personalizzati e pertinenti.\\n\\nGemini utilizza un algoritmo di intelligenza artificiale per analizzare le tue ricerche e le tue preferenze per offrire risultati più pertinenti e personalizzati. Inoltre, Gemini utilizza anche i dati delle tue attività online, come ad esempio le tue ricerche precedenti e le tue interazioni con i siti web, per migliorare i risultati delle tue ricerche.\\n\\nGemini è disponibile solo per gli utenti con un account Google e può essere accessibile solo attraverso il browser Google Chrome.\", response_metadata={'token_usage': {'completion_time': 0.170545095, 'completion_tokens': 208, 'prompt_time': 0.004640821, 'prompt_tokens': 21, 'queue_time': None, 'total_time': 0.175185916, 'total_tokens': 229}, 'model_name': 'Llama3-8b-8192', 'system_fingerprint': 'fp_179b0f92c9', 'finish_reason': 'stop', 'logprobs': None}, id='run-3a6175ab-591e-4339-b424-5cf3d48d2b22-0')]}}\n",
      "----\n"
     ]
    }
   ],
   "source": [
    "outputs = []\n",
    "for s in graph.stream(\n",
    "    {\n",
    "        \"messages\": [\n",
    "            HumanMessage(\n",
    "                content=\"Ciao, chi sei ? \"\n",
    "            )\n",
    "        ],\n",
    "    },\n",
    "    # Maximum number of steps to take in the graph\n",
    "    {\"recursion_limit\": 150},\n",
    "):\n",
    "    print(s)\n",
    "    outputs.append(s)\n",
    "    print(\"----\")"
   ]
  },
  {
   "cell_type": "code",
   "execution_count": 124,
   "metadata": {},
   "outputs": [
    {
     "name": "stdout",
     "output_type": "stream",
     "text": [
      "Ciao!\n",
      "\n",
      "Gemini è un servizio di ricerca di Google che consente di cercare e scoprire informazioni online in modo più approfondito e personalizzato rispetto alla ricerca tradizionale. Gemini è stato lanciato nel 2020 e si presenta come un'alternativa alla ricerca tradizionale di Google, offrendo risultati più personalizzati e pertinenti.\n",
      "\n",
      "Gemini utilizza un algoritmo di intelligenza artificiale per analizzare le tue ricerche e le tue preferenze per offrire risultati più pertinenti e personalizzati. Inoltre, Gemini utilizza anche i dati delle tue attività online, come ad esempio le tue ricerche precedenti e le tue interazioni con i siti web, per migliorare i risultati delle tue ricerche.\n",
      "\n",
      "Gemini è disponibile solo per gli utenti con un account Google e può essere accessibile solo attraverso il browser Google Chrome.\n"
     ]
    }
   ],
   "source": [
    "print(outputs[-1]['chatbot']['messages'][0].content)"
   ]
  },
  {
   "cell_type": "markdown",
   "metadata": {},
   "source": [
    "# Enhancing the Chatbot with Tools"
   ]
  },
  {
   "cell_type": "code",
   "execution_count": 125,
   "metadata": {},
   "outputs": [],
   "source": [
    "import sys\n",
    "sys.path.append('..')\n",
    "from tools.tavily import web_search_tool as tavily_tool\n",
    "from tools.retrieval_eventi import get_relevant_document_tool as retrieval_tool"
   ]
  },
  {
   "cell_type": "code",
   "execution_count": 126,
   "metadata": {},
   "outputs": [
    {
     "data": {
      "text/plain": [
       "[{'url': 'https://medium.com/@cplog/introduction-to-langgraph-a-beginners-guide-14f9be027141',\n",
       "  'content': \"Step 1: Define the Graph State. First, we define the state structure for our graph. In this example, our state includes the user's question, the classification of the question, and a response ...\"},\n",
       " {'url': 'https://langchain-ai.github.io/langgraph/',\n",
       "  'content': 'LangGraph is framework agnostic (each node is a regular python function). It extends the core Runnable API (shared interface for streaming, async, and batch calls) to make it easy to: Seamless state management across multiple turns of conversation or tool usage. The ability to flexibly route between nodes based on dynamic criteria.'},\n",
       " {'url': 'https://langchain-ai.github.io/langgraph/concepts/',\n",
       "  'content': \"If a node has multiple out-going edges, all of those destination nodes will be executed in parallel as a part of the next superstep. State Management¶ LangGraph introduces two key ideas to state management: state schemas and reducers. The state schema defines the type of the object that is given to each of the graph's Node.\"},\n",
       " {'url': 'https://medium.com/@bhavikjikadara/langgraph-a-comprehensive-guide-for-beginners-ef17d3dd5383',\n",
       "  'content': 'LangGraph is a library for building stateful, multi-actor applications with LLMs. ... We now need to define a few different nodes in our graph. In langgraph, a node can be either a function or a ...'},\n",
       " {'url': 'https://adasci.org/a-practical-guide-to-building-ai-agents-with-langgraph/',\n",
       "  'content': 'LangGraph simplifies AI agent development by focusing on three key components: State: The State is an accurate representation of the current status of the agent. Node: Nodes are the building blocks executing computations. The nodes can be LLM-based, Python code. Each graph execution builds a state, and this is passed between nodes during the ...'}]"
      ]
     },
     "execution_count": 126,
     "metadata": {},
     "output_type": "execute_result"
    }
   ],
   "source": [
    "tavily_tool.invoke(\"What's a 'node' in LangGraph?\")"
   ]
  },
  {
   "cell_type": "code",
   "execution_count": 127,
   "metadata": {},
   "outputs": [],
   "source": [
    "tools = [tavily_tool]"
   ]
  },
  {
   "cell_type": "markdown",
   "metadata": {},
   "source": [
    "The results are page summaries our chat bot can use to answer questions."
   ]
  },
  {
   "cell_type": "markdown",
   "metadata": {},
   "source": [
    "We need to create a function to actually run the tools if they are called. We'll do this by adding the tools to a new node."
   ]
  },
  {
   "cell_type": "markdown",
   "metadata": {},
   "source": [
    "Below, implement a **BasicToolNode** that checks the most recent message in the state and calls tools if the message contains tool_calls. It relies on the LLM's tool_calling support, which is available in Anthropic, OpenAI, Google Gemini, and a number of other LLM providers."
   ]
  },
  {
   "cell_type": "markdown",
   "metadata": {},
   "source": [
    "We will later replace this with LangGraph's prebuilt [ToolNode](https://langchain-ai.github.io/langgraph/reference/prebuilt/#toolnode) to speed things up, but building it ourselves first is instructive."
   ]
  },
  {
   "cell_type": "code",
   "execution_count": 128,
   "metadata": {},
   "outputs": [],
   "source": [
    "from langgraph.prebuilt import ToolNode #see later"
   ]
  },
  {
   "cell_type": "code",
   "execution_count": 129,
   "metadata": {},
   "outputs": [],
   "source": [
    "\n",
    "class BasicToolNode:\n",
    "    \"\"\"A node that runs the tools requested in the last AIMessage.\"\"\"\n",
    "\n",
    "    def __init__(self, tools: list) -> None:\n",
    "        self.tools_by_name = {tool.name: tool for tool in tools}\n",
    "\n",
    "    def __call__(self, inputs: dict):\n",
    "        if messages := inputs.get(\"messages\", []):\n",
    "            message = messages[-1]\n",
    "        else:\n",
    "            raise ValueError(\"No message found in input\")\n",
    "        outputs = []\n",
    "        for tool_call in message.tool_calls:\n",
    "            tool_result = self.tools_by_name[tool_call[\"name\"]].invoke(\n",
    "                tool_call[\"args\"]\n",
    "            )\n",
    "            outputs.append(\n",
    "                ToolMessage(\n",
    "                    content=json.dumps(tool_result),\n",
    "                    name=tool_call[\"name\"],\n",
    "                    tool_call_id=tool_call[\"id\"],\n",
    "                )\n",
    "            )\n",
    "        return {\"messages\": outputs}"
   ]
  },
  {
   "cell_type": "code",
   "execution_count": 130,
   "metadata": {},
   "outputs": [],
   "source": [
    "tool_node = BasicToolNode(tools=tools)"
   ]
  },
  {
   "cell_type": "code",
   "execution_count": 131,
   "metadata": {},
   "outputs": [
    {
     "name": "stderr",
     "output_type": "stream",
     "text": [
      "Adding a node to a graph that has already been compiled. This will not be reflected in the compiled graph.\n"
     ]
    }
   ],
   "source": [
    "graph_builder.add_node(\"tools\", tool_node)"
   ]
  },
  {
   "cell_type": "markdown",
   "metadata": {},
   "source": [
    "## Edges"
   ]
  },
  {
   "cell_type": "markdown",
   "metadata": {},
   "source": [
    "edges route the control flow from one node to the next"
   ]
  },
  {
   "cell_type": "markdown",
   "metadata": {},
   "source": [
    "Conditional edges usually contain \"if\" statements to route to different nodes depending on the current graph state.\n",
    "These functions receive the current graph state and return a string or list of strings indicating which node(s) to call next."
   ]
  },
  {
   "cell_type": "code",
   "execution_count": 132,
   "metadata": {},
   "outputs": [],
   "source": [
    "def router(\n",
    "    state: State,\n",
    ") -> Literal[\"tools\", \"__end__\"]:\n",
    "    \"\"\"\n",
    "    route_tools checks for tool_calls in the chatbot's output. \n",
    "    Provide this function to the graph by calling add_conditional_edges, \n",
    "    which tells the graph that whenever the chatbot node completes\n",
    "    to check this function to see where to go next.\n",
    "\n",
    "    Use in the conditional_edge to route to the ToolNode if the last message\n",
    "    has tool calls. Otherwise, route to the end.\n",
    "\n",
    "    \n",
    "    \"\"\"\n",
    "    if isinstance(state, list):\n",
    "        ai_message = state[-1]\n",
    "    elif messages := state.get(\"messages\", []):\n",
    "        ai_message = messages[-1]\n",
    "    else:\n",
    "        raise ValueError(f\"No messages found in input state to tool_edge: {state}\")\n",
    "    if hasattr(ai_message, \"tool_calls\") and len(ai_message.tool_calls) > 0:\n",
    "        return \"tools\"\n",
    "    return \"__end__\""
   ]
  },
  {
   "cell_type": "code",
   "execution_count": 133,
   "metadata": {},
   "outputs": [
    {
     "name": "stderr",
     "output_type": "stream",
     "text": [
      "Adding an edge to a graph that has already been compiled. This will not be reflected in the compiled graph.\n",
      "Adding an edge to a graph that has already been compiled. This will not be reflected in the compiled graph.\n",
      "Adding an edge to a graph that has already been compiled. This will not be reflected in the compiled graph.\n"
     ]
    }
   ],
   "source": [
    "graph_builder.add_conditional_edges(\n",
    "    \"chatbot\",\n",
    "    router,\n",
    "    # The following dictionary lets you tell the graph to interpret the condition's outputs as a specific node\n",
    "    # It defaults to the identity function, but if you\n",
    "    # want to use a node named something else apart from \"tools\",\n",
    "    # You can update the value of the dictionary to something else\n",
    "    # e.g., \"tools\": \"my_tools\"\n",
    "    {\n",
    "        \"tools\": \"tools\", \n",
    "        \"__end__\": \"__end__\"\n",
    "    },\n",
    ")\n",
    "# Any time a tool is called, we return to the chatbot to decide the next step\n",
    "graph_builder.add_edge(\"tools\", \"chatbot\")\n",
    "graph_builder.set_entry_point(\"chatbot\")\n",
    "graph = graph_builder.compile()"
   ]
  },
  {
   "cell_type": "code",
   "execution_count": 134,
   "metadata": {},
   "outputs": [
    {
     "data": {
      "image/jpeg": "[encoded data removed]",
      "text/plain": [
       "<IPython.core.display.Image object>"
      ]
     },
     "metadata": {},
     "output_type": "display_data"
    }
   ],
   "source": [
    "from IPython.display import Image, display\n",
    "\n",
    "try:\n",
    "    display(Image(graph.get_graph().draw_mermaid_png()))\n",
    "except Exception:\n",
    "    # This requires some extra dependencies and is optional\n",
    "    pass"
   ]
  },
  {
   "cell_type": "code",
   "execution_count": 135,
   "metadata": {},
   "outputs": [
    {
     "name": "stdout",
     "output_type": "stream",
     "text": [
      "{'chatbot': {'messages': [AIMessage(content=\"Ciao!\\n\\nGemini è un servizio di ricerca di Google che consente di cercare e scoprire informazioni online in modo più approfondito e personalizzato rispetto alla ricerca tradizionale. Gemini è stato lanciato nel 2020 e si presenta come un'alternativa alla ricerca tradizionale di Google, offrendo risultati più personalizzati e pertinenti.\\n\\nGemini utilizza un algoritmo di intelligenza artificiale per analizzare le tue ricerche e le tue preferenze per offrire risultati più pertinenti e personalizzati. Inoltre, Gemini utilizza anche i dati delle tue attività online, come ad esempio le tue ricerche precedenti e le tue interazioni con i siti web, per migliorare i risultati delle tue ricerche.\\n\\nGemini è disponibile solo per gli utenti con un account Google e può essere accessibile solo attraverso il browser Google Chrome.\", response_metadata={'token_usage': {'completion_time': 0.167255444, 'completion_tokens': 208, 'prompt_time': 0.003748013, 'prompt_tokens': 21, 'queue_time': None, 'total_time': 0.171003457, 'total_tokens': 229}, 'model_name': 'Llama3-8b-8192', 'system_fingerprint': 'fp_6a6771ae9c', 'finish_reason': 'stop', 'logprobs': None}, id='run-bb29b2e1-3f02-4a10-b521-ef0f5d335318-0')]}}\n",
      "----\n"
     ]
    }
   ],
   "source": [
    "outputs = []\n",
    "for s in graph.stream(\n",
    "    {\n",
    "        \"messages\": [\n",
    "            HumanMessage(\n",
    "                content=\"Ciao, cos'è Gemini di Google ? \"\n",
    "            )\n",
    "        ],\n",
    "    },\n",
    "    # Maximum number of steps to take in the graph\n",
    "    {\"recursion_limit\": 150},\n",
    "):\n",
    "    print(s)\n",
    "    outputs.append(s)\n",
    "    print(\"----\")"
   ]
  },
  {
   "cell_type": "markdown",
   "metadata": {},
   "source": [
    "## Memoria"
   ]
  },
  {
   "cell_type": "code",
   "execution_count": 136,
   "metadata": {},
   "outputs": [],
   "source": [
    "from langgraph.checkpoint.sqlite import SqliteSaver\n",
    "\n",
    "memory = SqliteSaver.from_conn_string(\":memory:\")"
   ]
  },
  {
   "cell_type": "code",
   "execution_count": 137,
   "metadata": {},
   "outputs": [],
   "source": [
    "graph = graph_builder.compile(checkpointer=memory)"
   ]
  },
  {
   "cell_type": "markdown",
   "metadata": {},
   "source": [
    "# Human in the Loop"
   ]
  },
  {
   "cell_type": "code",
   "execution_count": 138,
   "metadata": {},
   "outputs": [],
   "source": [
    "graph = graph_builder.compile(\n",
    "    checkpointer=memory,\n",
    "    # This is new!\n",
    "    interrupt_before=[\"tools\"],\n",
    "    # Note: can also interrupt __after__ actions, if desired.\n",
    "    # interrupt_after=[\"tools\"]\n",
    ")"
   ]
  },
  {
   "cell_type": "code",
   "execution_count": 139,
   "metadata": {},
   "outputs": [
    {
     "name": "stdout",
     "output_type": "stream",
     "text": [
      "================================\u001b[1m Human Message \u001b[0m=================================\n",
      "\n",
      "Sto imparando a usare LangGraph, puoi cercare alcune informazioni relative a esso?\n",
      "==================================\u001b[1m Ai Message \u001b[0m==================================\n",
      "\n",
      "LangGraph è un framework di rappresentazione e analisi di grafi per linguaggi naturali. Ecco alcune informazioni relative a LangGraph:\n",
      "\n",
      "**Cos'è LangGraph?**\n",
      "\n",
      "LangGraph è un framework open-source per la rappresentazione e l'analisi di grafi per linguaggi naturali. È stato sviluppato da un team di ricercatori dell'Università di Stanford e dell'Università di California, Berkeley.\n",
      "\n",
      "**Funzionalità**\n",
      "\n",
      "LangGraph offre diverse funzionalità per la rappresentazione e l'analisi di grafi per linguaggi naturali, tra cui:\n",
      "\n",
      "* Rappresentazione di grafi per linguaggi naturali, come ad esempio grafi di sintassi, grafi di semantica e grafi di pragmatica.\n",
      "* Analisi di grafi per identificare strutture linguistiche, come ad esempio frasi, proposizioni e argomenti.\n",
      "* Supporto per la rappresentazione di grafi complessi, come ad esempio grafi con cicli e grafi con nodi con più di due etichette.\n",
      "* Supporto per l'analisi di grafi in diversi linguaggi naturali, come ad esempio inglese, spagnolo e francese.\n",
      "\n",
      "**Utilizzo**\n",
      "\n",
      "LangGraph può essere utilizzato in diversi modi, tra cui:\n",
      "\n",
      "* Come strumento di analisi per la ricerca in linguistica e in informatica.\n",
      "* Come strumento di sviluppo per la creazione di applicazioni che utilizzano grafi per rappresentare e analizzare linguaggi naturali.\n",
      "* Come strumento di insegnamento per l'insegnamento di linguistica e informatica.\n",
      "\n",
      "**Sorgenti**\n",
      "\n",
      "Le sorgenti di LangGraph sono disponibili su GitHub, il repository di codice aperto più grande del mondo. È possibile scaricare le sorgenti e utilizzarle per personalizzare o estendere LangGraph.\n",
      "\n",
      "Spero che queste informazioni ti siano state utili! Se hai altre domande o hai bisogno di ulteriore aiuto, non esitare a chiedere.\n"
     ]
    }
   ],
   "source": [
    "user_input = \"Sto imparando a usare LangGraph, puoi cercare alcune informazioni relative a esso?\"\n",
    "config = {\"configurable\": {\"thread_id\": \"1\"}}\n",
    "# The config is the **second positional argument** to stream() or invoke()!\n",
    "events = graph.stream(\n",
    "    {\"messages\": [(\"user\", user_input)]}, config, stream_mode=\"values\"\n",
    ")\n",
    "for event in events:\n",
    "    if \"messages\" in event:\n",
    "        event[\"messages\"][-1].pretty_print()"
   ]
  },
  {
   "cell_type": "code",
   "execution_count": null,
   "metadata": {},
   "outputs": [],
   "source": []
  }
 ],
 "metadata": {
  "language_info": {
   "name": "python"
  }
 },
 "nbformat": 4,
 "nbformat_minor": 2
}
