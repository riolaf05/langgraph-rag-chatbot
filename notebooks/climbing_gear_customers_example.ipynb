{
 "cells": [
  {
   "cell_type": "markdown",
   "metadata": {},
   "source": [
    "See: https://valentinaalto.medium.com/introducing-agent-based-rag-9b7141ae1cd7"
   ]
  },
  {
   "cell_type": "code",
   "execution_count": 1,
   "metadata": {},
   "outputs": [],
   "source": [
    "import sqlite3\n",
    "import pandas as pd\n",
    "\n",
    "# Sample data from the CSV\n",
    "data = {\n",
    "    \"Name\": [\"John Doe\", \"Jane Smith\", \"Alex Johnson\", \"Chris Lee\", \"Patricia Brown\"],\n",
    "    \"Gender\": [\"Male\", \"Female\", \"Male\", \"Non-binary\", \"Female\"],\n",
    "    \"Age\": [28, 34, 22, 29, 41],\n",
    "    \"Previous Purchases\": [\n",
    "        \"Pro Gear 123 Climbing Shoes, UltraClip Carabiner, StrongRope 500\",\n",
    "        \"ClimbSafe Harness, GripMaster Chalk Bag, RockShield Helmet\",\n",
    "        \"QuickClip Carabiner\",\n",
    "        \"SummitX Climbing Shoes, ClimbSafe Harness\",\n",
    "        \"StrongRope 500, ProGrip Chalk, SecureBelay Device, QuickLink Quickdraw Set\"\n",
    "    ],\n",
    "    \"Reviews Given\": [\n",
    "        \"I really liked this product!\",\n",
    "        \"The product quality is great, highly recommend!\",\n",
    "        \"It's okay, but I expected better.\",\n",
    "        \"Good value for the price.\",\n",
    "        \"Excellent gear, will buy again!\"\n",
    "    ]\n",
    "}\n",
    "\n",
    "DATABASE_NAME=\"climbing_gear_customers.sql\"\n",
    "\n",
    "# Converting the dictionary to a DataFrame\n",
    "df = pd.DataFrame(data)\n",
    "\n",
    "# Connecting to a SQLite database (it will create a new one if it doesn't exist)\n",
    "conn = sqlite3.connect(DATABASE_NAME)\n",
    "\n",
    "# Storing the DataFrame in the SQLite database\n",
    "df.to_sql('customer_interactions', conn, index=False, if_exists='replace')\n",
    "\n",
    "# Committing and closing the connection\n",
    "conn.commit()\n",
    "conn.close()"
   ]
  },
  {
   "cell_type": "code",
   "execution_count": 2,
   "metadata": {},
   "outputs": [
    {
     "name": "stderr",
     "output_type": "stream",
     "text": [
      "c:\\Users\\ELAFACRB1\\Codice\\GitHub\\langgraph-rag-chatbot\\venv\\chatbot\\Lib\\site-packages\\tqdm\\auto.py:21: TqdmWarning: IProgress not found. Please update jupyter and ipywidgets. See https://ipywidgets.readthedocs.io/en/stable/user_install.html\n",
      "  from .autonotebook import tqdm as notebook_tqdm\n",
      "\u001b[32m2024-08-30 11:41:26.993\u001b[0m | \u001b[31m\u001b[1mERROR   \u001b[0m | \u001b[36mfastembed.common.model_management\u001b[0m:\u001b[36mdownload_model\u001b[0m:\u001b[36m236\u001b[0m - \u001b[31m\u001b[1mCould not download model from HuggingFace: (MaxRetryError(\"HTTPSConnectionPool(host='huggingface.co', port=443): Max retries exceeded with url: /api/models/qdrant/bge-base-en-v1.5-onnx-q/revision/main (Caused by SSLError(SSLCertVerificationError(1, '[SSL: CERTIFICATE_VERIFY_FAILED] certificate verify failed: unable to get local issuer certificate (_ssl.c:1000)')))\"), '(Request ID: 5a749d02-d173-44a7-a759-e3613dc4efc9)')Falling back to other sources.\u001b[0m\n"
     ]
    },
    {
     "name": "stdout",
     "output_type": "stream",
     "text": [
      "Collection climbing-gear-customers already exists!\n"
     ]
    },
    {
     "name": "stderr",
     "output_type": "stream",
     "text": [
      "c:\\Users\\ELAFACRB1\\Codice\\GitHub\\langgraph-rag-chatbot\\venv\\chatbot\\Lib\\site-packages\\langchain_core\\_api\\deprecation.py:139: LangChainDeprecationWarning: The class `Qdrant` was deprecated in LangChain 0.0.37 and will be removed in 0.3.0. An updated version of the class exists in the langchain-qdrant package and should be used instead. To use it run `pip install -U langchain-qdrant` and import as `from langchain_qdrant import Qdrant`.\n",
      "  warn_deprecated(\n"
     ]
    }
   ],
   "source": [
    "import sys \n",
    "sys.path.append(r'C:\\Users\\ELAFACRB1\\Codice\\GitHub\\rio-utils-app\\src')\n",
    "sys.path.append(r'..')\n",
    "from utils.text_processing import TextSplitter\n",
    "from utils.embedding import EmbeddingFunction\n",
    "from utils.database_managers import QDrantDBManager\n",
    "import os\n",
    "\n",
    "QDRANT_URL=os.getenv('QDRANT_URL')\n",
    "COLLECTION_NAME=\"climbing-gear-customers\"\n",
    "\n",
    "embedding = EmbeddingFunction('fast-bgeEmbedding').embedder\n",
    "text_splitter = TextSplitter(\n",
    "    chunk_size=2000, \n",
    "    chunk_overlap=20\n",
    ")\n",
    "\n",
    "qdrantClient = QDrantDBManager(\n",
    "    url=QDRANT_URL,\n",
    "    port=6333,\n",
    "    collection_name=COLLECTION_NAME,\n",
    "    vector_size=768,\n",
    "    embedding=embedding,\n",
    "    record_manager_url=\"sqlite:///record_manager_cache.sql\"\n",
    ")\n",
    "retriever=qdrantClient.vector_store.as_retriever()\n"
   ]
  },
  {
   "cell_type": "code",
   "execution_count": 7,
   "metadata": {},
   "outputs": [],
   "source": [
    "from langchain_community.document_loaders import PyPDFLoader\n",
    "from langchain_community.document_loaders import TextLoader\n",
    "from langchain_text_splitters import CharacterTextSplitter\n",
    "from langchain.document_loaders import PyPDFDirectoryLoader\n",
    "\n",
    "file_path = (\n",
    "    r\"C:\\Users\\ELAFACRB1\\Codice\\GitHub\\langgraph-rag-chatbot\\test\\Climbing product sheet.pdf\"\n",
    ")\n",
    "loader = PyPDFLoader(file_path)\n",
    "documents = loader.load()\n",
    "text_splitter = CharacterTextSplitter(chunk_size=1000, chunk_overlap=0)\n",
    "docs = text_splitter.split_documents(documents)\n",
    "\n",
    "qdrantClient.vector_store.add_documents(documents=docs)\n",
    "\n",
    "file_path = (\n",
    "    r\"C:\\Users\\ELAFACRB1\\Codice\\GitHub\\langgraph-rag-chatbot\\test\\trekkings\"\n",
    ")\n",
    "loader = PyPDFDirectoryLoader(file_path)\n",
    "documents = loader.load()\n",
    "text_splitter = CharacterTextSplitter(chunk_size=1000, chunk_overlap=0)\n",
    "docs = text_splitter.split_documents(documents)"
   ]
  },
  {
   "cell_type": "code",
   "execution_count": 9,
   "metadata": {},
   "outputs": [
    {
     "name": "stderr",
     "output_type": "stream",
     "text": [
      "Fetching 5 files: 100%|██████████| 5/5 [00:00<00:00, 7256.58it/s]\n"
     ]
    },
    {
     "name": "stdout",
     "output_type": "stream",
     "text": [
      "Collection climbing-gear-customers already exists!\n"
     ]
    }
   ],
   "source": [
    "import sqlite3\n",
    "import pandas as pd\n",
    "# from utils import langgraph\n",
    "# from langchain_core.output_parsers import StrOutputParser\n",
    "from langchain_core.messages import (\n",
    "    AIMessage,\n",
    "    BaseMessage,\n",
    "    ChatMessage,\n",
    "    FunctionMessage,\n",
    "    HumanMessage,\n",
    ")\n",
    "from langchain_core.prompts import ChatPromptTemplate, MessagesPlaceholder\n",
    "from langchain_core.utils.function_calling import convert_to_openai_function\n",
    "from typing import Dict, TypedDict, Optional\n",
    "from langchain_community.tools.tavily_search import TavilySearchResults\n",
    "from langgraph.prebuilt.tool_executor import ToolExecutor, ToolInvocation\n",
    "from typing import Annotated, List, Sequence, Tuple, TypedDict, Union\n",
    "from langgraph.prebuilt.tool_executor import ToolExecutor, ToolInvocation\n",
    "from langchain.schema import HumanMessage, AIMessage\n",
    "from langgraph.graph import END, StateGraph\n",
    "from langgraph.graph import StateGraph\n",
    "from langchain_openai import ChatOpenAI\n",
    "from langchain_groq import ChatGroq\n",
    "import operator\n",
    "import functools\n",
    "from dotenv import load_dotenv\n",
    "load_dotenv(override=True)\n",
    "import sys \n",
    "sys.path.append(r'..')\n",
    "import os\n",
    "import json \n",
    "from langchain_groq import ChatGroq\n",
    "from langgraph.graph import StateGraph\n",
    "from langgraph.graph.message import add_messages\n",
    "from langchain_core.messages import ToolMessage\n",
    "from typing import Literal\n",
    "from tools.sql import toolkit\n",
    "from tools.rag import trekking_tool\n",
    "from utils.text_processing import TextSplitter\n",
    "from utils.embedding import EmbeddingFunction\n",
    "from utils.database_managers import QDrantDBManager\n",
    "import os"
   ]
  },
  {
   "cell_type": "code",
   "execution_count": 6,
   "metadata": {},
   "outputs": [
    {
     "data": {
      "text/plain": [
       "[QuerySQLDataBaseTool(description=\"Input to this tool is a detailed and correct SQL query, output is a result from the database. If the query is not correct, an error message will be returned. If an error is returned, rewrite the query, check the query, and try again. If you encounter an issue with Unknown column 'xxxx' in 'field list', use sql_db_schema to query the correct table fields.\", db=<langchain_community.utilities.sql_database.SQLDatabase object at 0x0000013CAD07DF10>),\n",
       " InfoSQLDatabaseTool(description='Input to this tool is a comma-separated list of tables, output is the schema and sample rows for those tables. Be sure that the tables actually exist by calling sql_db_list_tables first! Example Input: table1, table2, table3', db=<langchain_community.utilities.sql_database.SQLDatabase object at 0x0000013CAD07DF10>),\n",
       " ListSQLDatabaseTool(db=<langchain_community.utilities.sql_database.SQLDatabase object at 0x0000013CAD07DF10>),\n",
       " QuerySQLCheckerTool(description='Use this tool to double check if your query is correct before executing it. Always use this tool before executing a query with sql_db_query!', db=<langchain_community.utilities.sql_database.SQLDatabase object at 0x0000013CAD07DF10>, llm=ChatGroq(client=<groq.resources.chat.completions.Completions object at 0x0000013CAD187B00>, async_client=<groq.resources.chat.completions.AsyncCompletions object at 0x0000013CAD1A44D0>, model_name='Llama3-8b-8192', temperature=1e-08, groq_api_key=SecretStr('**********')), llm_chain=LLMChain(prompt=PromptTemplate(input_variables=['dialect', 'query'], template='\\n{query}\\nDouble check the {dialect} query above for common mistakes, including:\\n- Using NOT IN with NULL values\\n- Using UNION when UNION ALL should have been used\\n- Using BETWEEN for exclusive ranges\\n- Data type mismatch in predicates\\n- Properly quoting identifiers\\n- Using the correct number of arguments for functions\\n- Casting to the correct data type\\n- Using the proper columns for joins\\n\\nIf there are any of the above mistakes, rewrite the query. If there are no mistakes, just reproduce the original query.\\n\\nOutput the final SQL query only.\\n\\nSQL Query: '), llm=ChatGroq(client=<groq.resources.chat.completions.Completions object at 0x0000013CAD187B00>, async_client=<groq.resources.chat.completions.AsyncCompletions object at 0x0000013CAD1A44D0>, model_name='Llama3-8b-8192', temperature=1e-08, groq_api_key=SecretStr('**********'))))]"
      ]
     },
     "execution_count": 6,
     "metadata": {},
     "output_type": "execute_result"
    }
   ],
   "source": [
    "toolkit.get_tools()"
   ]
  },
  {
   "cell_type": "code",
   "execution_count": 10,
   "metadata": {},
   "outputs": [],
   "source": [
    "tools = [trekking_tool, toolkit.get_tools()[0], toolkit.get_tools()[1], toolkit.get_tools()[2], toolkit.get_tools()[3]]"
   ]
  },
  {
   "cell_type": "markdown",
   "metadata": {},
   "source": [
    "# Building the Graph"
   ]
  },
  {
   "cell_type": "code",
   "execution_count": 13,
   "metadata": {},
   "outputs": [],
   "source": [
    "from langgraph.checkpoint.memory import MemorySaver\n",
    "from langgraph.graph import END, StateGraph, START\n",
    "from langgraph.prebuilt import tools_condition\n",
    "from graph.nodes import Assistant, assistant_runnable\n",
    "from graph.state import create_tool_node_with_fallback, State\n",
    "\n",
    "builder = StateGraph(State)\n",
    "\n",
    "\n",
    "# Define nodes: these do the work\n",
    "builder.add_node(\"assistant\", Assistant(assistant_runnable))\n",
    "builder.add_node(\"tools\", create_tool_node_with_fallback(tools))\n",
    "# Define edges: these determine how the control flow moves\n",
    "builder.add_edge(START, \"assistant\")\n",
    "builder.add_conditional_edges(\n",
    "    \"assistant\",\n",
    "    tools_condition,\n",
    ")\n",
    "builder.add_edge(\"tools\", \"assistant\")\n",
    "\n",
    "# The checkpointer lets the graph persist its state\n",
    "# this is a complete memory for the entire graph.\n",
    "memory = MemorySaver()\n",
    "part_1_graph = builder.compile(checkpointer=memory)"
   ]
  },
  {
   "cell_type": "code",
   "execution_count": 14,
   "metadata": {},
   "outputs": [
    {
     "data": {
      "image/jpeg": "[encoded data removed]",
      "text/plain": [
       "<IPython.core.display.Image object>"
      ]
     },
     "metadata": {},
     "output_type": "display_data"
    }
   ],
   "source": [
    "from IPython.display import Image, display\n",
    "\n",
    "try:\n",
    "    display(Image(part_1_graph.get_graph(xray=True).draw_mermaid_png()))\n",
    "except Exception:\n",
    "    pass"
   ]
  },
  {
   "cell_type": "code",
   "execution_count": 16,
   "metadata": {},
   "outputs": [],
   "source": [
    "import shutil\n",
    "import uuid\n",
    "\n",
    "def _print_event(event: dict, _printed: set, max_length=1500):\n",
    "    current_state = event.get(\"dialog_state\")\n",
    "    if current_state:\n",
    "        print(\"Currently in: \", current_state[-1])\n",
    "    message = event.get(\"messages\")\n",
    "    if message:\n",
    "        if isinstance(message, list):\n",
    "            message = message[-1]\n",
    "        if message.id not in _printed:\n",
    "            msg_repr = message.pretty_repr(html=True)\n",
    "            if len(msg_repr) > max_length:\n",
    "                msg_repr = msg_repr[:max_length] + \" ... (truncated)\"\n",
    "            print(msg_repr)\n",
    "            _printed.add(message.id)"
   ]
  },
  {
   "cell_type": "code",
   "execution_count": null,
   "metadata": {},
   "outputs": [],
   "source": [
    "question = \"Hi there, Can you help me find some climbing shoes based on my previous purchases?\""
   ]
  },
  {
   "cell_type": "code",
   "execution_count": 18,
   "metadata": {},
   "outputs": [
    {
     "name": "stdout",
     "output_type": "stream",
     "text": [
      "================================\u001b[1m Human Message \u001b[0m=================================\n",
      "\n",
      "Hi there, Can you help me find some climbing shoes based on my previous purchases?\n",
      "==================================\u001b[1m Ai Message \u001b[0m==================================\n",
      "Tool Calls:\n",
      "  trekking_search (call_t2gy)\n",
      " Call ID: call_t2gy\n",
      "  Args:\n",
      "    query: John Doe\n",
      "=================================\u001b[1m Tool Message \u001b[0m=================================\n",
      "Name: trekking_search\n",
      "\n",
      "o Available Sizes:  5-12 (US)  \n",
      "o Colors: Yellow, Black  \n",
      "9. ProGrip Chalk  \n",
      "• Category:  Accessories  \n",
      "• Description:  ProGrip Chalk is a premium chalk blend that provides superior grip and \n",
      "moisture absorption, essential for climbing in humid or sweaty conditions. It comes in a \n",
      "resealable bag, ensuring the chalk remains dry and ready to use. Suitable for all types of \n",
      "climbing, from bouldering to high -altitude ascents.  \n",
      "• Specifications:  \n",
      "o Material:  Magnesium carbonate  \n",
      "o Weight: 100 grams, 200 grams  \n",
      "o Packaging:  Resealable bag  \n",
      "o Additional Features:  Available in loose powder or chalk ball  \n",
      "10. SecureBelay Device  \n",
      "• Category:  Hardware  \n",
      "• Description:  The SecureBelay Device is a versatile and easy -to-use belay device \n",
      "suitable for beginners and experienced climbers alike. It offers smooth rope handling, \n",
      "controlled descent, and compatibility with a wide range of rope diameters. The device is \n",
      "also suitabl e for rappelling and can be used with single or double ropes.  \n",
      "• Specifications:  \n",
      "o Material:  Aluminum  \n",
      "o Weight: 75 grams  \n",
      "o Rope Compatibility:  8.5mm - 11mm  \n",
      "o Features:  Auto-locking, smooth descent control  \n",
      "o Colors: Grey, Blue  \n",
      "11. QuickLink Quickdraw Set  \n",
      "• Category:  Hardware  \n",
      "• Description:  The QuickLink Quickdraw Set is a set of six quickdraws, perfect for sport \n",
      "climbing. Each quickdraw features a straight -gate carabiner o ... (truncated)\n",
      "==================================\u001b[1m Ai Message \u001b[0m==================================\n",
      "Tool Calls:\n",
      "  sql_db_query (call_n9wn)\n",
      " Call ID: call_n9wn\n",
      "  Args:\n",
      "    query: SELECT * FROM customers WHERE name = 'John Doe' AND email IS NOT NULL\n",
      "=================================\u001b[1m Tool Message \u001b[0m=================================\n",
      "Name: sql_db_query\n",
      "\n",
      "Error: (sqlite3.OperationalError) no such table: customers\n",
      "[SQL: SELECT * FROM customers WHERE name = 'John Doe' AND email IS NOT NULL]\n",
      "(Background on this error at: https://sqlalche.me/e/20/e3q8)\n",
      "==================================\u001b[1m Ai Message \u001b[0m==================================\n",
      "Tool Calls:\n",
      "  trekking_search (call_pkk1)\n",
      " Call ID: call_pkk1\n",
      "  Args:\n",
      "    query: John Doe\n",
      "=================================\u001b[1m Tool Message \u001b[0m=================================\n",
      "Name: trekking_search\n",
      "\n",
      "o Available Sizes:  5-12 (US)  \n",
      "o Colors: Yellow, Black  \n",
      "9. ProGrip Chalk  \n",
      "• Category:  Accessories  \n",
      "• Description:  ProGrip Chalk is a premium chalk blend that provides superior grip and \n",
      "moisture absorption, essential for climbing in humid or sweaty conditions. It comes in a \n",
      "resealable bag, ensuring the chalk remains dry and ready to use. Suitable for all types of \n",
      "climbing, from bouldering to high -altitude ascents.  \n",
      "• Specifications:  \n",
      "o Material:  Magnesium carbonate  \n",
      "o Weight: 100 grams, 200 grams  \n",
      "o Packaging:  Resealable bag  \n",
      "o Additional Features:  Available in loose powder or chalk ball  \n",
      "10. SecureBelay Device  \n",
      "• Category:  Hardware  \n",
      "• Description:  The SecureBelay Device is a versatile and easy -to-use belay device \n",
      "suitable for beginners and experienced climbers alike. It offers smooth rope handling, \n",
      "controlled descent, and compatibility with a wide range of rope diameters. The device is \n",
      "also suitabl e for rappelling and can be used with single or double ropes.  \n",
      "• Specifications:  \n",
      "o Material:  Aluminum  \n",
      "o Weight: 75 grams  \n",
      "o Rope Compatibility:  8.5mm - 11mm  \n",
      "o Features:  Auto-locking, smooth descent control  \n",
      "o Colors: Grey, Blue  \n",
      "11. QuickLink Quickdraw Set  \n",
      "• Category:  Hardware  \n",
      "• Description:  The QuickLink Quickdraw Set is a set of six quickdraws, perfect for sport \n",
      "climbing. Each quickdraw features a straight -gate carabiner o ... (truncated)\n",
      "==================================\u001b[1m Ai Message \u001b[0m==================================\n",
      "Tool Calls:\n",
      "  sql_db_query (call_nb0w)\n",
      " Call ID: call_nb0w\n",
      "  Args:\n",
      "    query: SELECT * FROM customer_purchases WHERE customer_name = 'John Doe' AND product_category = 'Climbing Shoes' ORDER BY purchase_date DESC LIMIT 1\n",
      "=================================\u001b[1m Tool Message \u001b[0m=================================\n",
      "Name: sql_db_query\n",
      "\n",
      "Error: (sqlite3.OperationalError) no such table: customer_purchases\n",
      "[SQL: SELECT * FROM customer_purchases WHERE customer_name = 'John Doe' AND product_category = 'Climbing Shoes' ORDER BY purchase_date DESC LIMIT 1]\n",
      "(Background on this error at: https://sqlalche.me/e/20/e3q8)\n",
      "==================================\u001b[1m Ai Message \u001b[0m==================================\n",
      "Tool Calls:\n",
      "  trekking_search (call_ymkj)\n",
      " Call ID: call_ymkj\n",
      "  Args:\n",
      "    query: John Doe\n",
      "=================================\u001b[1m Tool Message \u001b[0m=================================\n",
      "Name: trekking_search\n",
      "\n",
      "o Available Sizes:  5-12 (US)  \n",
      "o Colors: Yellow, Black  \n",
      "9. ProGrip Chalk  \n",
      "• Category:  Accessories  \n",
      "• Description:  ProGrip Chalk is a premium chalk blend that provides superior grip and \n",
      "moisture absorption, essential for climbing in humid or sweaty conditions. It comes in a \n",
      "resealable bag, ensuring the chalk remains dry and ready to use. Suitable for all types of \n",
      "climbing, from bouldering to high -altitude ascents.  \n",
      "• Specifications:  \n",
      "o Material:  Magnesium carbonate  \n",
      "o Weight: 100 grams, 200 grams  \n",
      "o Packaging:  Resealable bag  \n",
      "o Additional Features:  Available in loose powder or chalk ball  \n",
      "10. SecureBelay Device  \n",
      "• Category:  Hardware  \n",
      "• Description:  The SecureBelay Device is a versatile and easy -to-use belay device \n",
      "suitable for beginners and experienced climbers alike. It offers smooth rope handling, \n",
      "controlled descent, and compatibility with a wide range of rope diameters. The device is \n",
      "also suitabl e for rappelling and can be used with single or double ropes.  \n",
      "• Specifications:  \n",
      "o Material:  Aluminum  \n",
      "o Weight: 75 grams  \n",
      "o Rope Compatibility:  8.5mm - 11mm  \n",
      "o Features:  Auto-locking, smooth descent control  \n",
      "o Colors: Grey, Blue  \n",
      "11. QuickLink Quickdraw Set  \n",
      "• Category:  Hardware  \n",
      "• Description:  The QuickLink Quickdraw Set is a set of six quickdraws, perfect for sport \n",
      "climbing. Each quickdraw features a straight -gate carabiner o ... (truncated)\n",
      "==================================\u001b[1m Ai Message \u001b[0m==================================\n",
      "\n",
      "I apologize for the confusion earlier. It seems that the tool call id \"call_ymkj\" is not a valid tool call id. It's possible that the tool call id is incorrect or the tool is not available.\n",
      "\n",
      "Let's try again. Can you please provide more context or information about what you are trying to achieve? I'll do my best to assist you.\n"
     ]
    }
   ],
   "source": [
    "thread_id = str(uuid.uuid4())\n",
    "\n",
    "config = {\n",
    "    \"configurable\": {\n",
    "        # The passenger_id is used in our flight tools to\n",
    "        # fetch the user's flight information\n",
    "        \"name\": \"John Doe\",\n",
    "        # Checkpoints are accessed by thread_id\n",
    "        \"thread_id\": thread_id,\n",
    "    }\n",
    "}\n",
    "\n",
    "\n",
    "_printed = set()\n",
    "\n",
    "events = part_1_graph.stream(\n",
    "    {\"messages\": (\"user\", question)}, \n",
    "    config, \n",
    "    stream_mode=\"values\"\n",
    ")\n",
    "for event in events:\n",
    "    _print_event(event, _printed)"
   ]
  }
 ],
 "metadata": {
  "kernelspec": {
   "display_name": "chatbot",
   "language": "python",
   "name": "python3"
  },
  "language_info": {
   "codemirror_mode": {
    "name": "ipython",
    "version": 3
   },
   "file_extension": ".py",
   "mimetype": "text/x-python",
   "name": "python",
   "nbconvert_exporter": "python",
   "pygments_lexer": "ipython3",
   "version": "3.12.0"
  }
 },
 "nbformat": 4,
 "nbformat_minor": 2
}
